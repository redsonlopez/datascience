{
 "cells": [
  {
   "cell_type": "code",
   "execution_count": 2,
   "id": "299fb921-f2c3-46f3-aa8d-3fd833422d1e",
   "metadata": {},
   "outputs": [],
   "source": [
    "import cx_Oracle\n",
    "\n",
    "connection = cx_Oracle.connect('pythonhol/welcome@127.0.0.1/orcl')\n",
    "cur = connection.cursor()\n",
    "cur.execute('my query')\n",
    "for result in cur:\n",
    "    print(result)\n",
    "cur.close()\n",
    "connection.close()"
   ]
  }
 ],
 "metadata": {
  "kernelspec": {
   "display_name": "Python 3 (ipykernel)",
   "language": "python",
   "name": "python3"
  },
  "language_info": {
   "codemirror_mode": {
    "name": "ipython",
    "version": 3
   },
   "file_extension": ".py",
   "mimetype": "text/x-python",
   "name": "python",
   "nbconvert_exporter": "python",
   "pygments_lexer": "ipython3",
   "version": "3.10.12"
  }
 },
 "nbformat": 4,
 "nbformat_minor": 5
}
