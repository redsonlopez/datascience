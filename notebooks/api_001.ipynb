{
 "cells": [
  {
   "cell_type": "code",
   "execution_count": 1,
   "id": "c768dfea-5932-4dc8-9f7c-dd6c1dc43ba6",
   "metadata": {},
   "outputs": [
    {
     "name": "stdout",
     "output_type": "stream",
     "text": [
      "Ocorreu um erro 401 com seu pedido\n"
     ]
    }
   ],
   "source": [
    "import requests\n",
    "import json\n",
    "\n",
    "resposta = requests.get(\"https://api.openweathermap.org/data/2.5/weather?lat=-23.53&lon=-46.62&units=metric&appid={Chave da API}\")\n",
    "\n",
    "if resposta.status_code == 200:\n",
    "    print(\"Informação recebida com sucesso\")\n",
    "    clima = resposta.json()\n",
    "    print(json.dumps(clima, indent=\"\\t\"))\n",
    "else:\n",
    "    print(f\"Ocorreu um erro {resposta.status_code} com seu pedido\")"
   ]
  }
 ],
 "metadata": {
  "kernelspec": {
   "display_name": "Python 3 (ipykernel)",
   "language": "python",
   "name": "python3"
  },
  "language_info": {
   "codemirror_mode": {
    "name": "ipython",
    "version": 3
   },
   "file_extension": ".py",
   "mimetype": "text/x-python",
   "name": "python",
   "nbconvert_exporter": "python",
   "pygments_lexer": "ipython3",
   "version": "3.10.12"
  }
 },
 "nbformat": 4,
 "nbformat_minor": 5
}
