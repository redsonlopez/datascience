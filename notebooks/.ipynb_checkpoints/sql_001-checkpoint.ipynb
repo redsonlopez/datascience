{
 "cells": [
  {
   "cell_type": "code",
   "execution_count": 2,
   "id": "14057f02-6e90-41b5-8931-a09aa348edd5",
   "metadata": {},
   "outputs": [],
   "source": [
    "import cx_Oracle\n",
    "\n",
    "dsn= cx_Oracle.makedsn('host', 'port', service_name= 'sid')\n",
    "connection= cx_Oracle.connect(user= 'usuario', password= 'senha', dsn= dsn)\n",
    "\n",
    "sql_query= \"SELECT * FROM dados\"\n",
    "cursor= connection.cursor()\n",
    "cursor.execute(sql_query)\n",
    "\n",
    "# Resultado da consulta\n",
    "result= cursor.fetchall()\n",
    "\n",
    "\n",
    "# Fechar Conexão\n",
    "#cursor.close()\n",
    "#connection.close()"
   ]
  }
 ],
 "metadata": {
  "kernelspec": {
   "display_name": "Python 3 (ipykernel)",
   "language": "python",
   "name": "python3"
  },
  "language_info": {
   "codemirror_mode": {
    "name": "ipython",
    "version": 3
   },
   "file_extension": ".py",
   "mimetype": "text/x-python",
   "name": "python",
   "nbconvert_exporter": "python",
   "pygments_lexer": "ipython3",
   "version": "3.10.12"
  }
 },
 "nbformat": 4,
 "nbformat_minor": 5
}
