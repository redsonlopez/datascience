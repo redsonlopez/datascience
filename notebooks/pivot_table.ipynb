{
 "cells": [
  {
   "cell_type": "code",
   "execution_count": 15,
   "id": "f6aa2dbd-df62-4ae8-97fb-b22fbe21030c",
   "metadata": {
    "tags": []
   },
   "outputs": [
    {
     "name": "stdout",
     "output_type": "stream",
     "text": [
      "    nome  conta_corrente  conta_poupanca\n",
      "0   Joao             500            1000\n",
      "1  Maria             800            1500\n",
      "2  Pedro            1000            2000\n"
     ]
    }
   ],
   "source": [
    "import pandas as pd\n",
    "\n",
    "# Exemplo de DataFrame\n",
    "data = {'nome': ['Joao', 'Joao', 'Maria', 'Maria', 'Pedro', 'Pedro'],\n",
    "        'conta': ['poupanca', 'corrente', 'poupanca', 'corrente', 'poupanca', 'corrente'],\n",
    "        'saldo': [1000, 500, 1500, 800, 2000, 1000]}\n",
    "\n",
    "df = pd.DataFrame(data)\n",
    "\n",
    "# Usando pivot_table para reorganizar o DataFrame\n",
    "df_pivot = df.pivot_table(index='nome', columns='conta', values='saldo', aggfunc='first').reset_index()\n",
    "\n",
    "# Renomeando as colunas\n",
    "df_pivot.columns = ['nome', 'conta_corrente', 'conta_poupanca']\n",
    "\n",
    "# Juntando as informações ao DataFrame original\n",
    "df_final = pd.merge(df, df_pivot, on='nome')\n",
    "\n",
    "# Exibindo o resultado\n",
    "print(df_pivot)"
   ]
  }
 ],
 "metadata": {
  "kernelspec": {
   "display_name": "Python 3 (ipykernel)",
   "language": "python",
   "name": "python3"
  },
  "language_info": {
   "codemirror_mode": {
    "name": "ipython",
    "version": 3
   },
   "file_extension": ".py",
   "mimetype": "text/x-python",
   "name": "python",
   "nbconvert_exporter": "python",
   "pygments_lexer": "ipython3",
   "version": "3.10.12"
  }
 },
 "nbformat": 4,
 "nbformat_minor": 5
}
